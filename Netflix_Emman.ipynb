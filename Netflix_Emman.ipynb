{
  "nbformat": 4,
  "nbformat_minor": 0,
  "metadata": {
    "colab": {
      "provenance": []
    },
    "kernelspec": {
      "name": "python3",
      "display_name": "Python 3"
    },
    "language_info": {
      "name": "python"
    }
  },
  "cells": [
    {
      "cell_type": "markdown",
      "source": [
        "**Netflix Reccomendations**"
      ],
      "metadata": {
        "id": "VWM8tHqa7AP6"
      }
    },
    {
      "cell_type": "code",
      "execution_count": 1,
      "metadata": {
        "id": "SQ7tBnWTvDrZ",
        "colab": {
          "base_uri": "https://localhost:8080/"
        },
        "outputId": "920c1736-4ca3-4eb2-bd54-3204d2452f1f"
      },
      "outputs": [
        {
          "output_type": "stream",
          "name": "stdout",
          "text": [
            "Collecting scikit-surprise\n",
            "  Downloading scikit_surprise-1.1.4.tar.gz (154 kB)\n",
            "\u001b[?25l     \u001b[90m━━━━━━━━━━━━━━━━━━━━━━━━━━━━━━━━━━━━━━━━\u001b[0m \u001b[32m0.0/154.4 kB\u001b[0m \u001b[31m?\u001b[0m eta \u001b[36m-:--:--\u001b[0m\r\u001b[2K     \u001b[90m━━━━━━━━━━━━━━━━━━━━━━━━━━━━━━━━━━━━━━━━\u001b[0m \u001b[32m154.4/154.4 kB\u001b[0m \u001b[31m4.8 MB/s\u001b[0m eta \u001b[36m0:00:00\u001b[0m\n",
            "\u001b[?25h  Installing build dependencies ... \u001b[?25l\u001b[?25hdone\n",
            "  Getting requirements to build wheel ... \u001b[?25l\u001b[?25hdone\n",
            "  Preparing metadata (pyproject.toml) ... \u001b[?25l\u001b[?25hdone\n",
            "Requirement already satisfied: joblib>=1.2.0 in /usr/local/lib/python3.10/dist-packages (from scikit-surprise) (1.4.2)\n",
            "Requirement already satisfied: numpy>=1.19.5 in /usr/local/lib/python3.10/dist-packages (from scikit-surprise) (1.26.4)\n",
            "Requirement already satisfied: scipy>=1.6.0 in /usr/local/lib/python3.10/dist-packages (from scikit-surprise) (1.13.1)\n",
            "Building wheels for collected packages: scikit-surprise\n",
            "  Building wheel for scikit-surprise (pyproject.toml) ... \u001b[?25l\u001b[?25hdone\n",
            "  Created wheel for scikit-surprise: filename=scikit_surprise-1.1.4-cp310-cp310-linux_x86_64.whl size=2357273 sha256=d3e352614cbf2155cdc8e13f582bd015dc14c396865e17b5504eed7818984ece\n",
            "  Stored in directory: /root/.cache/pip/wheels/4b/3f/df/6acbf0a40397d9bf3ff97f582cc22fb9ce66adde75bc71fd54\n",
            "Successfully built scikit-surprise\n",
            "Installing collected packages: scikit-surprise\n",
            "Successfully installed scikit-surprise-1.1.4\n"
          ]
        }
      ],
      "source": [
        "!pip install scikit-surprise\n",
        "\n",
        "import pandas as pd\n",
        "import numpy as np\n",
        "from sklearn.model_selection import train_test_split\n",
        "from sklearn.metrics import mean_squared_error\n",
        "from surprise import SVD, Reader, Dataset\n",
        "from surprise.accuracy import rmse\n",
        "from surprise.model_selection import train_test_split\n",
        "import matplotlib.pyplot as plt\n",
        "import seaborn as sns\n"
      ]
    },
    {
      "cell_type": "code",
      "source": [
        "df = pd.read_csv('/content/netflix_titles-1 (1).csv')"
      ],
      "metadata": {
        "id": "LkUqOKCy8Fbr"
      },
      "execution_count": 2,
      "outputs": []
    },
    {
      "cell_type": "code",
      "source": [
        "df.head(10)"
      ],
      "metadata": {
        "colab": {
          "base_uri": "https://localhost:8080/",
          "height": 363
        },
        "id": "v-tq_yZD8Jdy",
        "outputId": "0f0a73df-4c23-4cba-be17-59dd9197f06a"
      },
      "execution_count": 4,
      "outputs": [
        {
          "output_type": "execute_result",
          "data": {
            "text/plain": [
              "    ID                        Movie Name Rating  \\\n",
              "0   s1              Dick Johnson Is Dead  PG-13   \n",
              "1   s2                     Blood & Water  TV-MA   \n",
              "2   s3                         Ganglands  TV-MA   \n",
              "3   s4             Jailbirds New Orleans  TV-MA   \n",
              "4   s5                      Kota Factory  TV-MA   \n",
              "5   s6                     Midnight Mass  TV-MA   \n",
              "6   s7  My Little Pony: A New Generation     PG   \n",
              "7   s8                           Sankofa  TV-MA   \n",
              "8   s9     The Great British Baking Show  TV-14   \n",
              "9  s10                      The Starling  PG-13   \n",
              "\n",
              "                                               Genre  \n",
              "0                                      Documentaries  \n",
              "1    International TV Shows, TV Dramas, TV Mysteries  \n",
              "2  Crime TV Shows, International TV Shows, TV Act...  \n",
              "3                             Docuseries, Reality TV  \n",
              "4  International TV Shows, Romantic TV Shows, TV ...  \n",
              "5                 TV Dramas, TV Horror, TV Mysteries  \n",
              "6                           Children & Family Movies  \n",
              "7   Dramas, Independent Movies, International Movies  \n",
              "8                       British TV Shows, Reality TV  \n",
              "9                                   Comedies, Dramas  "
            ],
            "text/html": [
              "\n",
              "  <div id=\"df-322f67e3-8b36-4447-9b06-9d924494c542\" class=\"colab-df-container\">\n",
              "    <div>\n",
              "<style scoped>\n",
              "    .dataframe tbody tr th:only-of-type {\n",
              "        vertical-align: middle;\n",
              "    }\n",
              "\n",
              "    .dataframe tbody tr th {\n",
              "        vertical-align: top;\n",
              "    }\n",
              "\n",
              "    .dataframe thead th {\n",
              "        text-align: right;\n",
              "    }\n",
              "</style>\n",
              "<table border=\"1\" class=\"dataframe\">\n",
              "  <thead>\n",
              "    <tr style=\"text-align: right;\">\n",
              "      <th></th>\n",
              "      <th>ID</th>\n",
              "      <th>Movie Name</th>\n",
              "      <th>Rating</th>\n",
              "      <th>Genre</th>\n",
              "    </tr>\n",
              "  </thead>\n",
              "  <tbody>\n",
              "    <tr>\n",
              "      <th>0</th>\n",
              "      <td>s1</td>\n",
              "      <td>Dick Johnson Is Dead</td>\n",
              "      <td>PG-13</td>\n",
              "      <td>Documentaries</td>\n",
              "    </tr>\n",
              "    <tr>\n",
              "      <th>1</th>\n",
              "      <td>s2</td>\n",
              "      <td>Blood &amp; Water</td>\n",
              "      <td>TV-MA</td>\n",
              "      <td>International TV Shows, TV Dramas, TV Mysteries</td>\n",
              "    </tr>\n",
              "    <tr>\n",
              "      <th>2</th>\n",
              "      <td>s3</td>\n",
              "      <td>Ganglands</td>\n",
              "      <td>TV-MA</td>\n",
              "      <td>Crime TV Shows, International TV Shows, TV Act...</td>\n",
              "    </tr>\n",
              "    <tr>\n",
              "      <th>3</th>\n",
              "      <td>s4</td>\n",
              "      <td>Jailbirds New Orleans</td>\n",
              "      <td>TV-MA</td>\n",
              "      <td>Docuseries, Reality TV</td>\n",
              "    </tr>\n",
              "    <tr>\n",
              "      <th>4</th>\n",
              "      <td>s5</td>\n",
              "      <td>Kota Factory</td>\n",
              "      <td>TV-MA</td>\n",
              "      <td>International TV Shows, Romantic TV Shows, TV ...</td>\n",
              "    </tr>\n",
              "    <tr>\n",
              "      <th>5</th>\n",
              "      <td>s6</td>\n",
              "      <td>Midnight Mass</td>\n",
              "      <td>TV-MA</td>\n",
              "      <td>TV Dramas, TV Horror, TV Mysteries</td>\n",
              "    </tr>\n",
              "    <tr>\n",
              "      <th>6</th>\n",
              "      <td>s7</td>\n",
              "      <td>My Little Pony: A New Generation</td>\n",
              "      <td>PG</td>\n",
              "      <td>Children &amp; Family Movies</td>\n",
              "    </tr>\n",
              "    <tr>\n",
              "      <th>7</th>\n",
              "      <td>s8</td>\n",
              "      <td>Sankofa</td>\n",
              "      <td>TV-MA</td>\n",
              "      <td>Dramas, Independent Movies, International Movies</td>\n",
              "    </tr>\n",
              "    <tr>\n",
              "      <th>8</th>\n",
              "      <td>s9</td>\n",
              "      <td>The Great British Baking Show</td>\n",
              "      <td>TV-14</td>\n",
              "      <td>British TV Shows, Reality TV</td>\n",
              "    </tr>\n",
              "    <tr>\n",
              "      <th>9</th>\n",
              "      <td>s10</td>\n",
              "      <td>The Starling</td>\n",
              "      <td>PG-13</td>\n",
              "      <td>Comedies, Dramas</td>\n",
              "    </tr>\n",
              "  </tbody>\n",
              "</table>\n",
              "</div>\n",
              "    <div class=\"colab-df-buttons\">\n",
              "\n",
              "  <div class=\"colab-df-container\">\n",
              "    <button class=\"colab-df-convert\" onclick=\"convertToInteractive('df-322f67e3-8b36-4447-9b06-9d924494c542')\"\n",
              "            title=\"Convert this dataframe to an interactive table.\"\n",
              "            style=\"display:none;\">\n",
              "\n",
              "  <svg xmlns=\"http://www.w3.org/2000/svg\" height=\"24px\" viewBox=\"0 -960 960 960\">\n",
              "    <path d=\"M120-120v-720h720v720H120Zm60-500h600v-160H180v160Zm220 220h160v-160H400v160Zm0 220h160v-160H400v160ZM180-400h160v-160H180v160Zm440 0h160v-160H620v160ZM180-180h160v-160H180v160Zm440 0h160v-160H620v160Z\"/>\n",
              "  </svg>\n",
              "    </button>\n",
              "\n",
              "  <style>\n",
              "    .colab-df-container {\n",
              "      display:flex;\n",
              "      gap: 12px;\n",
              "    }\n",
              "\n",
              "    .colab-df-convert {\n",
              "      background-color: #E8F0FE;\n",
              "      border: none;\n",
              "      border-radius: 50%;\n",
              "      cursor: pointer;\n",
              "      display: none;\n",
              "      fill: #1967D2;\n",
              "      height: 32px;\n",
              "      padding: 0 0 0 0;\n",
              "      width: 32px;\n",
              "    }\n",
              "\n",
              "    .colab-df-convert:hover {\n",
              "      background-color: #E2EBFA;\n",
              "      box-shadow: 0px 1px 2px rgba(60, 64, 67, 0.3), 0px 1px 3px 1px rgba(60, 64, 67, 0.15);\n",
              "      fill: #174EA6;\n",
              "    }\n",
              "\n",
              "    .colab-df-buttons div {\n",
              "      margin-bottom: 4px;\n",
              "    }\n",
              "\n",
              "    [theme=dark] .colab-df-convert {\n",
              "      background-color: #3B4455;\n",
              "      fill: #D2E3FC;\n",
              "    }\n",
              "\n",
              "    [theme=dark] .colab-df-convert:hover {\n",
              "      background-color: #434B5C;\n",
              "      box-shadow: 0px 1px 3px 1px rgba(0, 0, 0, 0.15);\n",
              "      filter: drop-shadow(0px 1px 2px rgba(0, 0, 0, 0.3));\n",
              "      fill: #FFFFFF;\n",
              "    }\n",
              "  </style>\n",
              "\n",
              "    <script>\n",
              "      const buttonEl =\n",
              "        document.querySelector('#df-322f67e3-8b36-4447-9b06-9d924494c542 button.colab-df-convert');\n",
              "      buttonEl.style.display =\n",
              "        google.colab.kernel.accessAllowed ? 'block' : 'none';\n",
              "\n",
              "      async function convertToInteractive(key) {\n",
              "        const element = document.querySelector('#df-322f67e3-8b36-4447-9b06-9d924494c542');\n",
              "        const dataTable =\n",
              "          await google.colab.kernel.invokeFunction('convertToInteractive',\n",
              "                                                    [key], {});\n",
              "        if (!dataTable) return;\n",
              "\n",
              "        const docLinkHtml = 'Like what you see? Visit the ' +\n",
              "          '<a target=\"_blank\" href=https://colab.research.google.com/notebooks/data_table.ipynb>data table notebook</a>'\n",
              "          + ' to learn more about interactive tables.';\n",
              "        element.innerHTML = '';\n",
              "        dataTable['output_type'] = 'display_data';\n",
              "        await google.colab.output.renderOutput(dataTable, element);\n",
              "        const docLink = document.createElement('div');\n",
              "        docLink.innerHTML = docLinkHtml;\n",
              "        element.appendChild(docLink);\n",
              "      }\n",
              "    </script>\n",
              "  </div>\n",
              "\n",
              "\n",
              "<div id=\"df-3d66c763-6408-4a74-989f-03b822ebea81\">\n",
              "  <button class=\"colab-df-quickchart\" onclick=\"quickchart('df-3d66c763-6408-4a74-989f-03b822ebea81')\"\n",
              "            title=\"Suggest charts\"\n",
              "            style=\"display:none;\">\n",
              "\n",
              "<svg xmlns=\"http://www.w3.org/2000/svg\" height=\"24px\"viewBox=\"0 0 24 24\"\n",
              "     width=\"24px\">\n",
              "    <g>\n",
              "        <path d=\"M19 3H5c-1.1 0-2 .9-2 2v14c0 1.1.9 2 2 2h14c1.1 0 2-.9 2-2V5c0-1.1-.9-2-2-2zM9 17H7v-7h2v7zm4 0h-2V7h2v10zm4 0h-2v-4h2v4z\"/>\n",
              "    </g>\n",
              "</svg>\n",
              "  </button>\n",
              "\n",
              "<style>\n",
              "  .colab-df-quickchart {\n",
              "      --bg-color: #E8F0FE;\n",
              "      --fill-color: #1967D2;\n",
              "      --hover-bg-color: #E2EBFA;\n",
              "      --hover-fill-color: #174EA6;\n",
              "      --disabled-fill-color: #AAA;\n",
              "      --disabled-bg-color: #DDD;\n",
              "  }\n",
              "\n",
              "  [theme=dark] .colab-df-quickchart {\n",
              "      --bg-color: #3B4455;\n",
              "      --fill-color: #D2E3FC;\n",
              "      --hover-bg-color: #434B5C;\n",
              "      --hover-fill-color: #FFFFFF;\n",
              "      --disabled-bg-color: #3B4455;\n",
              "      --disabled-fill-color: #666;\n",
              "  }\n",
              "\n",
              "  .colab-df-quickchart {\n",
              "    background-color: var(--bg-color);\n",
              "    border: none;\n",
              "    border-radius: 50%;\n",
              "    cursor: pointer;\n",
              "    display: none;\n",
              "    fill: var(--fill-color);\n",
              "    height: 32px;\n",
              "    padding: 0;\n",
              "    width: 32px;\n",
              "  }\n",
              "\n",
              "  .colab-df-quickchart:hover {\n",
              "    background-color: var(--hover-bg-color);\n",
              "    box-shadow: 0 1px 2px rgba(60, 64, 67, 0.3), 0 1px 3px 1px rgba(60, 64, 67, 0.15);\n",
              "    fill: var(--button-hover-fill-color);\n",
              "  }\n",
              "\n",
              "  .colab-df-quickchart-complete:disabled,\n",
              "  .colab-df-quickchart-complete:disabled:hover {\n",
              "    background-color: var(--disabled-bg-color);\n",
              "    fill: var(--disabled-fill-color);\n",
              "    box-shadow: none;\n",
              "  }\n",
              "\n",
              "  .colab-df-spinner {\n",
              "    border: 2px solid var(--fill-color);\n",
              "    border-color: transparent;\n",
              "    border-bottom-color: var(--fill-color);\n",
              "    animation:\n",
              "      spin 1s steps(1) infinite;\n",
              "  }\n",
              "\n",
              "  @keyframes spin {\n",
              "    0% {\n",
              "      border-color: transparent;\n",
              "      border-bottom-color: var(--fill-color);\n",
              "      border-left-color: var(--fill-color);\n",
              "    }\n",
              "    20% {\n",
              "      border-color: transparent;\n",
              "      border-left-color: var(--fill-color);\n",
              "      border-top-color: var(--fill-color);\n",
              "    }\n",
              "    30% {\n",
              "      border-color: transparent;\n",
              "      border-left-color: var(--fill-color);\n",
              "      border-top-color: var(--fill-color);\n",
              "      border-right-color: var(--fill-color);\n",
              "    }\n",
              "    40% {\n",
              "      border-color: transparent;\n",
              "      border-right-color: var(--fill-color);\n",
              "      border-top-color: var(--fill-color);\n",
              "    }\n",
              "    60% {\n",
              "      border-color: transparent;\n",
              "      border-right-color: var(--fill-color);\n",
              "    }\n",
              "    80% {\n",
              "      border-color: transparent;\n",
              "      border-right-color: var(--fill-color);\n",
              "      border-bottom-color: var(--fill-color);\n",
              "    }\n",
              "    90% {\n",
              "      border-color: transparent;\n",
              "      border-bottom-color: var(--fill-color);\n",
              "    }\n",
              "  }\n",
              "</style>\n",
              "\n",
              "  <script>\n",
              "    async function quickchart(key) {\n",
              "      const quickchartButtonEl =\n",
              "        document.querySelector('#' + key + ' button');\n",
              "      quickchartButtonEl.disabled = true;  // To prevent multiple clicks.\n",
              "      quickchartButtonEl.classList.add('colab-df-spinner');\n",
              "      try {\n",
              "        const charts = await google.colab.kernel.invokeFunction(\n",
              "            'suggestCharts', [key], {});\n",
              "      } catch (error) {\n",
              "        console.error('Error during call to suggestCharts:', error);\n",
              "      }\n",
              "      quickchartButtonEl.classList.remove('colab-df-spinner');\n",
              "      quickchartButtonEl.classList.add('colab-df-quickchart-complete');\n",
              "    }\n",
              "    (() => {\n",
              "      let quickchartButtonEl =\n",
              "        document.querySelector('#df-3d66c763-6408-4a74-989f-03b822ebea81 button');\n",
              "      quickchartButtonEl.style.display =\n",
              "        google.colab.kernel.accessAllowed ? 'block' : 'none';\n",
              "    })();\n",
              "  </script>\n",
              "</div>\n",
              "\n",
              "    </div>\n",
              "  </div>\n"
            ],
            "application/vnd.google.colaboratory.intrinsic+json": {
              "type": "dataframe",
              "variable_name": "df",
              "summary": "{\n  \"name\": \"df\",\n  \"rows\": 8807,\n  \"fields\": [\n    {\n      \"column\": \"ID\",\n      \"properties\": {\n        \"dtype\": \"string\",\n        \"num_unique_values\": 8807,\n        \"samples\": [\n          \"s4971\",\n          \"s3363\",\n          \"s5495\"\n        ],\n        \"semantic_type\": \"\",\n        \"description\": \"\"\n      }\n    },\n    {\n      \"column\": \"Movie Name\",\n      \"properties\": {\n        \"dtype\": \"string\",\n        \"num_unique_values\": 8804,\n        \"samples\": [\n          \"The Circle\",\n          \"The Old Thieves: The Legend of Artegios\",\n          \"Take My Brother Away\"\n        ],\n        \"semantic_type\": \"\",\n        \"description\": \"\"\n      }\n    },\n    {\n      \"column\": \"Rating\",\n      \"properties\": {\n        \"dtype\": \"category\",\n        \"num_unique_values\": 17,\n        \"samples\": [\n          \"PG-13\",\n          \"TV-MA\",\n          \"TV-Y\"\n        ],\n        \"semantic_type\": \"\",\n        \"description\": \"\"\n      }\n    },\n    {\n      \"column\": \"Genre\",\n      \"properties\": {\n        \"dtype\": \"category\",\n        \"num_unique_values\": 514,\n        \"samples\": [\n          \"Crime TV Shows, International TV Shows, TV Mysteries\",\n          \"Children & Family Movies, Classic Movies, Dramas\",\n          \"British TV Shows, TV Comedies, TV Dramas\"\n        ],\n        \"semantic_type\": \"\",\n        \"description\": \"\"\n      }\n    }\n  ]\n}"
            }
          },
          "metadata": {},
          "execution_count": 4
        }
      ]
    },
    {
      "cell_type": "code",
      "source": [
        "df.info()"
      ],
      "metadata": {
        "colab": {
          "base_uri": "https://localhost:8080/"
        },
        "id": "RNkAYU_i8cFY",
        "outputId": "76faf3db-7213-4efd-c011-badd2d141993"
      },
      "execution_count": 5,
      "outputs": [
        {
          "output_type": "stream",
          "name": "stdout",
          "text": [
            "<class 'pandas.core.frame.DataFrame'>\n",
            "RangeIndex: 8807 entries, 0 to 8806\n",
            "Data columns (total 4 columns):\n",
            " #   Column      Non-Null Count  Dtype \n",
            "---  ------      --------------  ----- \n",
            " 0   ID          8807 non-null   object\n",
            " 1   Movie Name  8807 non-null   object\n",
            " 2   Rating      8803 non-null   object\n",
            " 3   Genre       8807 non-null   object\n",
            "dtypes: object(4)\n",
            "memory usage: 275.3+ KB\n"
          ]
        }
      ]
    },
    {
      "cell_type": "code",
      "source": [
        "df.isna().sum()"
      ],
      "metadata": {
        "colab": {
          "base_uri": "https://localhost:8080/",
          "height": 209
        },
        "id": "5JIczA278g9U",
        "outputId": "8cde0b63-0199-4a75-cf2f-9c33bdebce2f"
      },
      "execution_count": 6,
      "outputs": [
        {
          "output_type": "execute_result",
          "data": {
            "text/plain": [
              "ID            0\n",
              "Movie Name    0\n",
              "Rating        4\n",
              "Genre         0\n",
              "dtype: int64"
            ],
            "text/html": [
              "<div>\n",
              "<style scoped>\n",
              "    .dataframe tbody tr th:only-of-type {\n",
              "        vertical-align: middle;\n",
              "    }\n",
              "\n",
              "    .dataframe tbody tr th {\n",
              "        vertical-align: top;\n",
              "    }\n",
              "\n",
              "    .dataframe thead th {\n",
              "        text-align: right;\n",
              "    }\n",
              "</style>\n",
              "<table border=\"1\" class=\"dataframe\">\n",
              "  <thead>\n",
              "    <tr style=\"text-align: right;\">\n",
              "      <th></th>\n",
              "      <th>0</th>\n",
              "    </tr>\n",
              "  </thead>\n",
              "  <tbody>\n",
              "    <tr>\n",
              "      <th>ID</th>\n",
              "      <td>0</td>\n",
              "    </tr>\n",
              "    <tr>\n",
              "      <th>Movie Name</th>\n",
              "      <td>0</td>\n",
              "    </tr>\n",
              "    <tr>\n",
              "      <th>Rating</th>\n",
              "      <td>4</td>\n",
              "    </tr>\n",
              "    <tr>\n",
              "      <th>Genre</th>\n",
              "      <td>0</td>\n",
              "    </tr>\n",
              "  </tbody>\n",
              "</table>\n",
              "</div><br><label><b>dtype:</b> int64</label>"
            ]
          },
          "metadata": {},
          "execution_count": 6
        }
      ]
    },
    {
      "cell_type": "code",
      "source": [
        "print(f\"Unique values in Rating column: {df['Rating'].unique()}\")\n",
        "\n",
        "\n",
        "rating_map = {\n",
        "    'G': 1,\n",
        "    'PG': 2,\n",
        "    'PG-13': 3,\n",
        "    'R': 4,\n",
        "    'NC-17': 5,\n",
        "    'TV-Y': 1,\n",
        "    'TV-Y7': 2,\n",
        "    'TV-G': 1,\n",
        "    'TV-PG': 2,\n",
        "    'TV-14': 3,\n",
        "    'TV-MA': 4\n",
        "}\n",
        "\n",
        "# Filter data to include only rows with valid ratings\n",
        "valid_ratings = set(rating_map.keys())\n",
        "df = df[df['Rating'].isin(valid_ratings)]\n",
        "\n",
        "# Map textual ratings to numerical values\n",
        "df['Rating'] = df['Rating'].map(rating_map)\n",
        "\n",
        "# Convert the Rating column to a numeric type\n",
        "df['Rating'] = df['Rating'].astype(float)\n",
        "\n",
        "print(df.head())"
      ],
      "metadata": {
        "colab": {
          "base_uri": "https://localhost:8080/"
        },
        "id": "KMR7Wgi59LP4",
        "outputId": "01c585a2-3bf4-4eb1-aa0a-45a6c130bcdb"
      },
      "execution_count": 7,
      "outputs": [
        {
          "output_type": "stream",
          "name": "stdout",
          "text": [
            "Unique values in Rating column: ['PG-13' 'TV-MA' 'PG' 'TV-14' 'TV-PG' 'TV-Y' 'TV-Y7' 'R' 'TV-G' 'G'\n",
            " 'NC-17' '74 min' '84 min' '66 min' 'NR' nan 'TV-Y7-FV' 'UR']\n",
            "   ID             Movie Name  Rating  \\\n",
            "0  s1   Dick Johnson Is Dead     3.0   \n",
            "1  s2          Blood & Water     4.0   \n",
            "2  s3              Ganglands     4.0   \n",
            "3  s4  Jailbirds New Orleans     4.0   \n",
            "4  s5           Kota Factory     4.0   \n",
            "\n",
            "                                               Genre  \n",
            "0                                      Documentaries  \n",
            "1    International TV Shows, TV Dramas, TV Mysteries  \n",
            "2  Crime TV Shows, International TV Shows, TV Act...  \n",
            "3                             Docuseries, Reality TV  \n",
            "4  International TV Shows, Romantic TV Shows, TV ...  \n"
          ]
        },
        {
          "output_type": "stream",
          "name": "stderr",
          "text": [
            "<ipython-input-7-6735a4836527>:23: SettingWithCopyWarning: \n",
            "A value is trying to be set on a copy of a slice from a DataFrame.\n",
            "Try using .loc[row_indexer,col_indexer] = value instead\n",
            "\n",
            "See the caveats in the documentation: https://pandas.pydata.org/pandas-docs/stable/user_guide/indexing.html#returning-a-view-versus-a-copy\n",
            "  df['Rating'] = df['Rating'].map(rating_map)\n",
            "<ipython-input-7-6735a4836527>:26: SettingWithCopyWarning: \n",
            "A value is trying to be set on a copy of a slice from a DataFrame.\n",
            "Try using .loc[row_indexer,col_indexer] = value instead\n",
            "\n",
            "See the caveats in the documentation: https://pandas.pydata.org/pandas-docs/stable/user_guide/indexing.html#returning-a-view-versus-a-copy\n",
            "  df['Rating'] = df['Rating'].astype(float)\n"
          ]
        }
      ]
    },
    {
      "cell_type": "code",
      "source": [
        "df.info()"
      ],
      "metadata": {
        "colab": {
          "base_uri": "https://localhost:8080/"
        },
        "id": "d2OYTICN9X1O",
        "outputId": "4987ead8-49b6-4689-f400-61756f57996d"
      },
      "execution_count": 8,
      "outputs": [
        {
          "output_type": "stream",
          "name": "stdout",
          "text": [
            "<class 'pandas.core.frame.DataFrame'>\n",
            "Index: 8711 entries, 0 to 8806\n",
            "Data columns (total 4 columns):\n",
            " #   Column      Non-Null Count  Dtype  \n",
            "---  ------      --------------  -----  \n",
            " 0   ID          8711 non-null   object \n",
            " 1   Movie Name  8711 non-null   object \n",
            " 2   Rating      8711 non-null   float64\n",
            " 3   Genre       8711 non-null   object \n",
            "dtypes: float64(1), object(3)\n",
            "memory usage: 340.3+ KB\n"
          ]
        }
      ]
    },
    {
      "cell_type": "markdown",
      "source": [
        "**Objective - 1** Findout the list of most popular and liked genre"
      ],
      "metadata": {
        "id": "rgPMGDku9iAN"
      }
    },
    {
      "cell_type": "code",
      "source": [
        "popular_genres = df['Genre'].value_counts()\n",
        "avg_rating_genre = df.groupby('Genre')['Rating'].mean().sort_values(ascending=False)\n"
      ],
      "metadata": {
        "id": "zsZFRVuI9Zjp"
      },
      "execution_count": 9,
      "outputs": []
    },
    {
      "cell_type": "code",
      "source": [
        "plt.figure(figsize=(10, 6))\n",
        "sns.barplot(x=popular_genres.index[:10], y=popular_genres.values[:10])\n",
        "plt.title('Top 10 Popular Genres')\n",
        "plt.xlabel('Genre')\n",
        "plt.ylabel('Count')\n",
        "plt.xticks(rotation=91)\n",
        "plt.show()"
      ],
      "metadata": {
        "colab": {
          "base_uri": "https://localhost:8080/",
          "height": 798
        },
        "id": "Ng1mX4Jf9tdO",
        "outputId": "dfa57444-a717-4372-8636-c3f1f1f0a268"
      },
      "execution_count": 19,
      "outputs": [
        {
          "output_type": "display_data",
          "data": {
            "text/plain": [
              "<Figure size 1000x600 with 1 Axes>"
            ],
            "image/png": "[encoded data removed]"
          },
          "metadata": {}
        }
      ]
    },
    {
      "cell_type": "markdown",
      "source": [
        "**Objective - 2** To Create Model that finds the best suited Movie for one\n",
        "user in every genre"
      ],
      "metadata": {
        "id": "tYMvS07i-MJE"
      }
    },
    {
      "cell_type": "code",
      "source": [
        "\n",
        "print(f\"Data shape after preprocessing: {df.shape}\")\n",
        "\n",
        "print(\"Number of missing values in each column:\\n\", df.isnull().sum())\n",
        "\n",
        "print(\"Unique values in Rating column after preprocessing:\\n\", df['Rating'].unique())\n",
        "\n",
        "\n",
        "if df.empty:\n",
        "    print(\"The dataset is empty. Adjust preprocessing or filtering logic.\")\n",
        "\n"
      ],
      "metadata": {
        "colab": {
          "base_uri": "https://localhost:8080/"
        },
        "id": "9NgLZqKe-H4V",
        "outputId": "9d39e441-0eba-4e96-fc9b-676145fcd23d"
      },
      "execution_count": 20,
      "outputs": [
        {
          "output_type": "stream",
          "name": "stdout",
          "text": [
            "Data shape after preprocessing: (8711, 4)\n",
            "Number of missing values in each column:\n",
            " ID            0\n",
            "Movie Name    0\n",
            "Rating        0\n",
            "Genre         0\n",
            "dtype: int64\n",
            "Unique values in Rating column after preprocessing:\n",
            " [3. 4. 2. 1. 5.]\n"
          ]
        }
      ]
    },
    {
      "cell_type": "code",
      "source": [
        "reader = Reader(rating_scale=(df['Rating'].min(), df['Rating'].max()))\n",
        "surprise_data = Dataset.load_from_df(df[['ID', 'Movie Name', 'Rating']], reader)\n",
        "\n",
        "# Train-test split using Surprise\n",
        "trainset, testset = train_test_split(surprise_data, test_size=0.2)\n",
        "\n",
        "#  Train the SVD model\n",
        "model = SVD()\n",
        "model.fit(trainset)\n",
        "\n",
        "# Evaluate the model on the test set\n",
        "predictions = model.test(testset)\n",
        "rmse_value = rmse(predictions)\n",
        "\n",
        "print(f\"RMSE of the model: {rmse_value}\")"
      ],
      "metadata": {
        "colab": {
          "base_uri": "https://localhost:8080/"
        },
        "id": "Vu52P_IQ--CO",
        "outputId": "ed1151e6-5438-44fd-ba5c-bb347563073b"
      },
      "execution_count": 22,
      "outputs": [
        {
          "output_type": "stream",
          "name": "stdout",
          "text": [
            "RMSE: 0.9284\n",
            "RMSE of the model: 0.9283778991856283\n"
          ]
        }
      ]
    },
    {
      "cell_type": "code",
      "source": [
        "# Recommending movies for a specific user\n",
        "def recommend_movies(user_id, genre=None, top_n=5):\n",
        "    user_data = df[df['ID'] == user_id]\n",
        "    if genre:\n",
        "        user_data = user_data[user_data['Genre'] == genre]\n",
        "    recommendations = user_data.sort_values('Rating', ascending=False).head(top_n)\n",
        "    return recommendations"
      ],
      "metadata": {
        "id": "7pfkCgXy-_eL"
      },
      "execution_count": 23,
      "outputs": []
    },
    {
      "cell_type": "markdown",
      "source": [
        "**Objective - 3** To Find what Genre Movies have received the best and\n",
        "worst ratings based on User Rating."
      ],
      "metadata": {
        "id": "nZhD7TfB_OBo"
      }
    },
    {
      "cell_type": "code",
      "source": [
        "best_genres = avg_rating_genre.head()\n",
        "worst_genres = avg_rating_genre.tail()\n",
        "print(\"Best Genres:\", best_genres)\n",
        "print()\n",
        "print(\"Worst Genres:\", worst_genres)"
      ],
      "metadata": {
        "colab": {
          "base_uri": "https://localhost:8080/"
        },
        "id": "vUOl0OQo_Uit",
        "outputId": "1c208540-0e1e-4dbd-b4ba-3bff3933d79e"
      },
      "execution_count": 24,
      "outputs": [
        {
          "output_type": "stream",
          "name": "stdout",
          "text": [
            "Best Genres: Genre\n",
            "Classic Movies, Independent Movies, Thrillers           4.0\n",
            "Independent Movies, Sci-Fi & Fantasy, Thrillers         4.0\n",
            "Crime TV Shows, TV Dramas, TV Horror                    4.0\n",
            "Horror Movies, International Movies, Romantic Movies    4.0\n",
            "Anime Series, Crime TV Shows, TV Horror                 4.0\n",
            "Name: Rating, dtype: float64\n",
            "\n",
            "Worst Genres: Genre\n",
            "Documentaries, Faith & Spirituality, Music & Musicals    1.0\n",
            "British TV Shows, Classic & Cult TV, Kids' TV            1.0\n",
            "Action & Adventure, Classic Movies, Sci-Fi & Fantasy     1.0\n",
            "Music & Musicals, Romantic Movies                        1.0\n",
            "Kids' TV, Reality TV, TV Dramas                          1.0\n",
            "Name: Rating, dtype: float64\n"
          ]
        }
      ]
    }
  ]
}